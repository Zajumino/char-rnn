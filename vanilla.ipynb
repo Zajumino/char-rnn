{
 "cells": [
  {
   "cell_type": "code",
   "execution_count": 1,
   "metadata": {},
   "outputs": [],
   "source": [
    "import torch\n",
    "import torch.nn as nn\n",
    "from torch.nn import functional as F"
   ]
  },
  {
   "cell_type": "code",
   "execution_count": 2,
   "metadata": {},
   "outputs": [],
   "source": [
    "# hyperparameters\n",
    "batch_size = 32 # how many independent sequences will we process in parallel?\n",
    "block_size = 128 # what is the maximum context length for predictions?\n",
    "max_iters = 2000\n",
    "eval_interval = 200\n",
    "learning_rate = 6e-3\n",
    "eval_iters = 20\n",
    "n_embed = 256\n",
    "n_layer = 2\n",
    "\n",
    "device = 'cuda' if torch.cuda.is_available() else 'cpu'\n",
    "#torch.manual_seed(42)"
   ]
  },
  {
   "cell_type": "code",
   "execution_count": 3,
   "metadata": {},
   "outputs": [],
   "source": [
    "data_dir = 'data/tinyshakespeare/'\n",
    "with open(data_dir + 'input.txt', 'r', encoding='utf-8') as f:\n",
    "    text = f.read()"
   ]
  },
  {
   "cell_type": "code",
   "execution_count": 4,
   "metadata": {},
   "outputs": [
    {
     "name": "stdout",
     "output_type": "stream",
     "text": [
      "\n",
      " !$&',-.3:;?ABCDEFGHIJKLMNOPQRSTUVWXYZabcdefghijklmnopqrstuvwxyz\n",
      "65\n"
     ]
    }
   ],
   "source": [
    "# here are all the unique characters that occur in this text\n",
    "chars = sorted(list(set(text)))\n",
    "vocab_size = len(chars)\n",
    "print(''.join(chars))\n",
    "print(vocab_size)"
   ]
  },
  {
   "cell_type": "code",
   "execution_count": 5,
   "metadata": {},
   "outputs": [
    {
     "name": "stdout",
     "output_type": "stream",
     "text": [
      "[47, 1, 50, 47, 49, 43, 1, 47, 41, 43, 1, 41, 56, 43, 39, 51]\n",
      "i like ice cream\n"
     ]
    }
   ],
   "source": [
    "# create a mapping from characters to integers\n",
    "stoi = { ch:i for i,ch in enumerate(chars) }\n",
    "itos = { i:ch for i,ch in enumerate(chars) }\n",
    "encode = lambda s: [stoi[c] for c in s] # encoder: take a string, output a list of integers\n",
    "decode = lambda l: ''.join([itos[i] for i in l]) # decoder: take a list of integers, output a string\n",
    "\n",
    "print(encode(\"i like ice cream\"))\n",
    "print(decode(encode(\"i like ice cream\")))"
   ]
  },
  {
   "cell_type": "code",
   "execution_count": 6,
   "metadata": {},
   "outputs": [],
   "source": [
    "# train and test splits\n",
    "data = torch.tensor(encode(text), dtype=torch.long)\n",
    "n = int(0.9*len(data)) # first 90% will be train, rest val\n",
    "train_data = data[:n]\n",
    "val_data = data[n:]"
   ]
  },
  {
   "cell_type": "code",
   "execution_count": 7,
   "metadata": {},
   "outputs": [],
   "source": [
    "# data loading\n",
    "def get_batch(split):\n",
    "    # generate a small batch of data of inputs x and targets y\n",
    "    data = train_data if split == 'train' else val_data\n",
    "    ix = torch.randint(len(data) - block_size, (batch_size,))\n",
    "    x = torch.stack([data[i:i+block_size] for i in ix])\n",
    "    y = torch.stack([data[i+1:i+block_size+1] for i in ix])\n",
    "    x, y = x.to(device), y.to(device)\n",
    "    return x, y"
   ]
  },
  {
   "cell_type": "code",
   "execution_count": 8,
   "metadata": {},
   "outputs": [],
   "source": [
    "@torch.no_grad()\n",
    "def estimate_loss():\n",
    "    model.eval()\n",
    "    out = {}\n",
    "    for split in ['train', 'val']:\n",
    "        losses = torch.zeros(eval_iters)\n",
    "        for k in range(eval_iters):\n",
    "            X, Y = get_batch(split)\n",
    "            logits, _, loss = model(X, model.init_hidden(batch_size), Y)\n",
    "            losses[k] = loss.item()\n",
    "        out[split] = losses.mean()\n",
    "    model.train()\n",
    "    return out"
   ]
  },
  {
   "cell_type": "code",
   "execution_count": 9,
   "metadata": {},
   "outputs": [],
   "source": [
    "class simpleRNN(nn.Module):\n",
    "    def __init__(self, n_embed, n_hidden, n_layer, tie_weights=True):\n",
    "        super().__init__()\n",
    "        self.n_embed = n_embed\n",
    "        self.n_hidden = n_hidden\n",
    "        self.n_layer = n_layer\n",
    "\n",
    "        self.encoder = nn.Embedding(vocab_size, n_embed)\n",
    "        self.rnn = nn.RNN(n_embed, n_hidden, n_layer, batch_first=True)\n",
    "        self.decoder = nn.Linear(n_hidden, vocab_size)\n",
    "        \n",
    "        if tie_weights:\n",
    "            if n_embed != n_hidden:\n",
    "                raise ValueError('When using the tied flag, embed size must be equal to hidden size')\n",
    "            self.decoder.weight = self.encoder.weight\n",
    "    \n",
    "    def forward(self, idx, hx, targets=None):\n",
    "        B, T = idx.shape\n",
    "        # idx and targets are both (B,T) tensor of integers\n",
    "        tok_emb = self.encoder(idx) # (B, T, C)\n",
    "        y, h = self.rnn(tok_emb, hx) # (B, T, C)\n",
    "        logits = self.decoder(y) # (B, T, vocab_size)\n",
    "        \n",
    "        if targets is None:\n",
    "            loss = None\n",
    "        else:\n",
    "            B, T, C = logits.shape\n",
    "            logits = logits.view(B*T, C)\n",
    "            targets = targets.view(B*T)\n",
    "            loss = F.cross_entropy(logits, targets)\n",
    "        \n",
    "        return logits, h, loss\n",
    "    \n",
    "    def init_hidden(self, batch_size):\n",
    "        # first hidden state is all zeros\n",
    "        return torch.zeros(self.n_layer, batch_size, self.n_hidden).to(device)\n",
    "    \n",
    "    @torch.no_grad()\n",
    "    def generate(self, idx, max_new_tokens):\n",
    "        # idx is (B, T) array of indices in the current context\n",
    "        for _ in range(max_new_tokens):\n",
    "            # crop idx to the last block_size tokens\n",
    "            idx_cond = idx[:, -block_size:]\n",
    "            # get the predictions\n",
    "            logits, hidden, loss = self(idx_cond, self.init_hidden(1))\n",
    "            # focus only on the last time step\n",
    "            logits = logits[:, -1, :] # becomes (B, C)\n",
    "            # apply softmax to get probabilities\n",
    "            probs = F.softmax(logits, dim=-1) # (B, C)\n",
    "            # sample from the distribution\n",
    "            idx_next = torch.multinomial(probs, num_samples=1) # (B, 1)\n",
    "            # append sampled index to the running sequence\n",
    "            idx = torch.cat((idx, idx_next), dim=1) # (B, T+1)\n",
    "        return idx"
   ]
  },
  {
   "cell_type": "code",
   "execution_count": 10,
   "metadata": {},
   "outputs": [],
   "source": [
    "model = simpleRNN(n_embed, n_embed, n_layer).to(device)\n",
    "\n",
    "optimizer = torch.optim.AdamW(model.parameters(), lr=learning_rate)"
   ]
  },
  {
   "cell_type": "code",
   "execution_count": 11,
   "metadata": {},
   "outputs": [
    {
     "name": "stdout",
     "output_type": "stream",
     "text": [
      "step 0/2000: train loss 12.9704, val loss 12.9226\n",
      "step 200/2000: train loss 2.0886, val loss 2.1652\n",
      "step 400/2000: train loss 1.8374, val loss 1.9788\n",
      "step 600/2000: train loss 1.7604, val loss 1.9314\n",
      "step 800/2000: train loss 1.6878, val loss 1.8891\n",
      "step 1000/2000: train loss 1.6465, val loss 1.8376\n",
      "step 1200/2000: train loss 1.6155, val loss 1.8434\n",
      "step 1400/2000: train loss 1.6047, val loss 1.8082\n",
      "step 1600/2000: train loss 1.5871, val loss 1.7939\n",
      "step 1800/2000: train loss 1.5461, val loss 1.7601\n",
      "step 1999/2000: train loss 1.5323, val loss 1.7730\n"
     ]
    }
   ],
   "source": [
    "for iteration in range(max_iters):\n",
    "    \n",
    "    # every once in a while evaluate the loss on train and val sets\n",
    "    if iteration % eval_interval == 0 or iteration == max_iters - 1:\n",
    "        losses = estimate_loss()\n",
    "        print(f\"step {iteration}/{max_iters}: train loss {losses['train']:.4f}, val loss {losses['val']:.4f}\")\n",
    "    \n",
    "    # sample a batch of data\n",
    "    xb, yb = get_batch('train')\n",
    "    \n",
    "    # init hidden state for first input\n",
    "    hb = model.init_hidden(batch_size)\n",
    "    \n",
    "    # evaluate the loss\n",
    "    optimizer.zero_grad()\n",
    "    logits, hb, loss = model(xb, hb, targets=yb)\n",
    "    loss.backward()\n",
    "    optimizer.step()"
   ]
  },
  {
   "cell_type": "code",
   "execution_count": 12,
   "metadata": {},
   "outputs": [
    {
     "name": "stdout",
     "output_type": "stream",
     "text": [
      "\n",
      "It make.\n",
      "Ay, I do pleasure.\n",
      "And down sworn how!\n",
      "\n",
      "DUKE VINCENTIO:\n",
      "Hath the lightions.\n",
      "Good doge, were Edward to me.\n",
      "\n",
      "AUFIDIUS:\n",
      "Fitted Tow, fair youngle liefelless your lord.\n",
      "\n",
      "HARh:\n",
      "How long and you have a pass-plight by long gentleman many kissage, which 'lave a difment. Too waitor, with heasts\n",
      "You worn'd our dearous mind\n",
      "In aire leave leave,\n",
      "Some the mine inselso'd seed man kiding dream would awhate, he, to in night of it off sose with foroutair of us arm not with my Beous tender appery\n",
      "joiful t\n"
     ]
    }
   ],
   "source": [
    "# generate from the model\n",
    "context = torch.zeros((1, 1), dtype=torch.long, device=device)\n",
    "print(decode(model.generate(context, max_new_tokens=500)[0].tolist()))"
   ]
  },
  {
   "cell_type": "code",
   "execution_count": null,
   "metadata": {},
   "outputs": [],
   "source": []
  }
 ],
 "metadata": {
  "kernelspec": {
   "display_name": "pytorch",
   "language": "python",
   "name": "python3"
  },
  "language_info": {
   "codemirror_mode": {
    "name": "ipython",
    "version": 3
   },
   "file_extension": ".py",
   "mimetype": "text/x-python",
   "name": "python",
   "nbconvert_exporter": "python",
   "pygments_lexer": "ipython3",
   "version": "3.10.10"
  },
  "orig_nbformat": 4
 },
 "nbformat": 4,
 "nbformat_minor": 2
}
